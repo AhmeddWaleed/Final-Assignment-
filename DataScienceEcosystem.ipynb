{
 "cells": [
  {
   "cell_type": "markdown",
   "id": "c5bdc2a7-d9eb-4c41-8a9b-88a4a249ebaf",
   "metadata": {},
   "source": [
    "# Data Science Tools and Ecosystem"
   ]
  },
  {
   "cell_type": "markdown",
   "id": "c4429964-080e-4b48-8a6c-a387f6860963",
   "metadata": {},
   "source": [
    "## In this notebook, Data Science Tools and Ecosystem are summarized."
   ]
  },
  {
   "cell_type": "markdown",
   "id": "0c003329-e86b-4bdf-b084-03dce3fc876c",
   "metadata": {},
   "source": [
    " **Objectives**\n",
    " - Python\n",
    " - R\n",
    " - SQL\n",
    " - Java"
   ]
  },
  {
   "cell_type": "markdown",
   "id": "7d63dee0-292d-430f-935c-d701a55a332b",
   "metadata": {},
   "source": [
    " ### Some of the popular languages that Data Scientists use are:\n",
    "  1. Python\n",
    "  2. R\n",
    "  3. SQL\n",
    "  4. Java"
   ]
  },
  {
   "cell_type": "markdown",
   "id": "f78fac6e-0a77-46fb-b3f2-722eb7b5031a",
   "metadata": {},
   "source": [
    "#### Some of the commonly used libraries used by Data Scientists include:\n",
    " 1. Pandas\n",
    " 2. NumPy\n",
    " 3. Matplotlib\n",
    " 4. Scikit-learn\n",
    " 5. TensorFlow"
   ]
  },
  {
   "cell_type": "markdown",
   "id": "d9c4a8f2-e410-42b3-90dd-40dd9a99ef50",
   "metadata": {},
   "source": [
    " | Data Science Tools |\n",
    " |--------------------|\n",
    " |      Tableau       |\n",
    " |   Apache Spark     |\n",
    " |   Apache Hadoop    |"
   ]
  },
  {
   "cell_type": "markdown",
   "id": "5a9fd0e8-3def-4c98-90e4-9ff626f9e43b",
   "metadata": {},
   "source": [
    " ### Below are a few examples of evaluating arithmetic expressions in Python\n",
    " - 6*6\n",
    " - 4+3\n",
    " - 7-2"
   ]
  },
  {
   "cell_type": "code",
   "execution_count": 9,
   "id": "5c349726-474e-4d71-9365-702835dc2f35",
   "metadata": {},
   "outputs": [
    {
     "data": {
      "text/plain": [
       "17"
      ]
     },
     "execution_count": 9,
     "metadata": {},
     "output_type": "execute_result"
    }
   ],
   "source": [
    "# This a simple arithmetic expression to mutiply then add integers\n",
    "\n",
    "(3*4)+5"
   ]
  },
  {
   "cell_type": "code",
   "execution_count": 11,
   "id": "4709c079-8d7d-4ab9-b111-3a287ce445b2",
   "metadata": {},
   "outputs": [
    {
     "name": "stdout",
     "output_type": "stream",
     "text": [
      "200 minutes is equal to 3.3333333333333335 hours.\n"
     ]
    }
   ],
   "source": [
    "#  This will convert 200 minutes to hours by diving by 60\n",
    "def minutes_to_hours(minutes):\n",
    "    hours = minutes / 60\n",
    "    return hours\n",
    "\n",
    "\n",
    "minutes = 200\n",
    "hours = minutes_to_hours(minutes)\n",
    "print(f\"{minutes} minutes is equal to {hours} hours.\")"
   ]
  },
  {
   "cell_type": "markdown",
   "id": "02efb24f-9d03-426d-92b5-8d76178545b6",
   "metadata": {},
   "source": [
    " ## Author\n",
    " Ahmed Waleed"
   ]
  },
  {
   "cell_type": "code",
   "execution_count": null,
   "id": "01d5db5c-5088-410d-8cb7-72c3ce009ac3",
   "metadata": {},
   "outputs": [],
   "source": []
  }
 ],
 "metadata": {
  "kernelspec": {
   "display_name": "Python 3 (ipykernel)",
   "language": "python",
   "name": "python3"
  },
  "language_info": {
   "codemirror_mode": {
    "name": "ipython",
    "version": 3
   },
   "file_extension": ".py",
   "mimetype": "text/x-python",
   "name": "python",
   "nbconvert_exporter": "python",
   "pygments_lexer": "ipython3",
   "version": "3.12.4"
  }
 },
 "nbformat": 4,
 "nbformat_minor": 5
}
